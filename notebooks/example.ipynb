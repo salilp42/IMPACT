{
 "cells": [
  {
   "cell_type": "markdown",
   "metadata": {},
   "source": [
    "# IMPACT Example Usage\n",
    "\n",
    "This notebook demonstrates how to use the IMPACT framework for analyzing resting-state fMRI data in Parkinson's Disease."
   ]
  },
  {
   "cell_type": "code",
   "execution_count": null,
   "metadata": {},
   "source": [
    "import os\n",
    "import sys\n",
    "import numpy as np\n",
    "import torch\n",
    "from pathlib import Path\n",
    "\n",
    "# Add IMPACT to path\n",
    "sys.path.append('..')\n",
    "\n",
    "from impact.data.preprocessor import FMRIPreprocessor\n",
    "from impact.data.loader import IMPACTDataLoader\n",
    "from impact.models.impact import IMPACTModel"
   ]
  },
  {
   "cell_type": "markdown",
   "metadata": {},
   "source": [
    "## 1. Download and Prepare Data\n",
    "\n",
    "First, we need to download the PPMI dataset from NITRC. You can find the dataset at:\n",
    "https://fcon_1000.projects.nitrc.org/indi/retro/parkinsons.html\n",
    "\n",
    "After downloading, organize your data directory as follows:\n",
    "```\n",
    "data/\n",
    "├── raw/\n",
    "│   ├── sub-001/\n",
    "│   │   └── func/\n",
    "│   │       └── sub-001_task-rest_bold.nii.gz\n",
    "│   ├── sub-002/\n",
    "│   └── ...\n",
    "└── metadata.json\n",
    "```\n",
    "\n",
    "The metadata.json file should contain subject information including diagnosis labels."
   ]
  },
  {
   "cell_type": "code",
   "execution_count": null,
   "metadata": {},
   "source": [
    "# Set up paths\n",
    "data_dir = Path('../data')\n",
    "raw_dir = data_dir / 'raw'\n",
    "processed_dir = data_dir / 'processed'\n",
    "\n",
    "# Create preprocessor\n",
    "preprocessor = FMRIPreprocessor(\n",
    "    atlas='harvard-oxford',\n",
    "    n_ica_components=5,\n",
    "    window_size=50,\n",
    "    window_stride=25\n",
    ")"
   ]
  },
  {
   "cell_type": "markdown",
   "metadata": {},
   "source": [
    "## 2. Preprocess Data\n",
    "\n",
    "Now we'll preprocess the raw fMRI data to extract ROI time series, ICA components, and dynamic connectivity matrices."
   ]
  },
  {
   "cell_type": "code",
   "execution_count": null,
   "metadata": {},
   "source": [
    "# Process each subject\n",
    "for subject_dir in raw_dir.glob('sub-*'):\n",
    "    # Find fMRI file\n",
    "    fmri_file = next(subject_dir.rglob('*_bold.nii.gz'))\n",
    "    \n",
    "    print(f'Processing {subject_dir.name}...')\n",
    "    \n",
    "    # Process subject\n",
    "    results = preprocessor.process_subject(fmri_file)\n",
    "    \n",
    "    # Save results\n",
    "    output_dir = processed_dir / subject_dir.name\n",
    "    output_dir.mkdir(parents=True, exist_ok=True)\n",
    "    \n",
    "    np.save(output_dir / 'roi_timeseries.npy', results['roi_timeseries'])\n",
    "    np.save(output_dir / 'ica_timeseries.npy', results['ica_timeseries'])\n",
    "    np.save(output_dir / 'connectivity_matrices.npy', results['connectivity_matrices'])"
   ]
  },
  {
   "cell_type": "markdown",
   "metadata": {},
   "source": [
    "## 3. Train Model\n",
    "\n",
    "Now we can train the IMPACT model on our preprocessed data."
   ]
  },
  {
   "cell_type": "code",
   "execution_count": null,
   "metadata": {},
   "source": [
    "# Set up data loader\n",
    "data_loader = IMPACTDataLoader(\n",
    "    data_dir=processed_dir,\n",
    "    batch_size=8,\n",
    "    num_workers=4\n",
    ")\n",
    "\n",
    "train_loader, val_loader, test_loader = data_loader.get_dataloaders()\n",
    "\n",
    "# Create model\n",
    "model = IMPACTModel(\n",
    "    roi_dim=train_loader.dataset.roi_data.size(-1),\n",
    "    ica_dim=train_loader.dataset.ica_data.size(-1),\n",
    "    embed_dim=256,\n",
    "    n_heads=4,\n",
    "    n_layers=3\n",
    ")\n",
    "\n",
    "# Set up training\n",
    "device = torch.device('cuda' if torch.cuda.is_available() else 'cpu')\n",
    "model = model.to(device)\n",
    "criterion = torch.nn.CrossEntropyLoss()\n",
    "optimizer = torch.optim.AdamW(model.parameters(), lr=1e-4)\n",
    "\n",
    "# Training loop\n",
    "n_epochs = 100\n",
    "best_val_loss = float('inf')\n",
    "\n",
    "for epoch in range(n_epochs):\n",
    "    # Train\n",
    "    model.train()\n",
    "    for batch in train_loader:\n",
    "        inputs = {k: v.to(device) for k, v in batch[0].items()}\n",
    "        labels = batch[1].to(device)\n",
    "        \n",
    "        optimizer.zero_grad()\n",
    "        logits, _ = model(inputs)\n",
    "        loss = criterion(logits, labels)\n",
    "        loss.backward()\n",
    "        optimizer.step()\n",
    "    \n",
    "    # Validate\n",
    "    model.eval()\n",
    "    val_loss = 0\n",
    "    with torch.no_grad():\n",
    "        for batch in val_loader:\n",
    "            inputs = {k: v.to(device) for k, v in batch[0].items()}\n",
    "            labels = batch[1].to(device)\n",
    "            \n",
    "            logits, _ = model(inputs)\n",
    "            val_loss += criterion(logits, labels).item()\n",
    "    \n",
    "    val_loss /= len(val_loader)\n",
    "    print(f'Epoch {epoch+1}, Validation Loss: {val_loss:.4f}')\n",
    "    \n",
    "    # Save best model\n",
    "    if val_loss < best_val_loss:\n",
    "        best_val_loss = val_loss\n",
    "        torch.save(model.state_dict(), 'best_model.pt')"
   ]
  },
  {
   "cell_type": "markdown",
   "metadata": {},
   "source": [
    "## 4. Evaluate Model\n",
    "\n",
    "Finally, let's evaluate our trained model and visualize the results."
   ]
  },
  {
   "cell_type": "code",
   "execution_count": null,
   "metadata": {},
   "source": [
    "from impact.evaluate import evaluate_model\n",
    "\n",
    "# Load best model\n",
    "model.load_state_dict(torch.load('best_model.pt'))\n",
    "\n",
    "# Create output directory\n",
    "output_dir = Path('evaluation_results')\n",
    "output_dir.mkdir(exist_ok=True)\n",
    "\n",
    "# Evaluate model\n",
    "metrics, attention_weights = evaluate_model(\n",
    "    model,\n",
    "    test_loader,\n",
    "    device,\n",
    "    output_dir\n",
    ")\n",
    "\n",
    "print('\\nTest Metrics:')\n",
    "for name, value in metrics.items():\n",
    "    print(f'{name}: {value:.4f}')"
   ]
  }
 ],
 "metadata": {
  "kernelspec": {
   "display_name": "Python 3",
   "language": "python",
   "name": "python3"
  },
  "language_info": {
   "codemirror_mode": {
    "name": "ipython",
    "version": 3
   },
   "file_extension": ".py",
   "mimetype": "text/x-python",
   "name": "python",
   "nbconvert_exporter": "python",
   "pygments_lexer": "ipython3",
   "version": "3.8.0"
  }
 },
 "nbformat": 4,
 "nbformat_minor": 4
}
